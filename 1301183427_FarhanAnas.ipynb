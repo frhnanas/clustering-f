{
  "nbformat": 4,
  "nbformat_minor": 0,
  "metadata": {
    "colab": {
      "name": "Clustering_1301183427.ipynb",
      "provenance": [],
      "collapsed_sections": []
    },
    "kernelspec": {
      "display_name": "Python 3",
      "name": "python3"
    },
    "language_info": {
      "name": "python"
    }
  },
  "cells": [
    {
      "cell_type": "code",
      "metadata": {
        "id": "FXBeGXDWLDcc"
      },
      "source": [
        "import matplotlib.pyplot as plt\n",
        "import matplotlib as mpl\n",
        "import pandas as pd\n",
        "import numpy as np \n",
        "import seaborn as sns"
      ],
      "execution_count": 1,
      "outputs": []
    },
    {
      "cell_type": "code",
      "metadata": {
        "colab": {
          "base_uri": "https://localhost:8080/",
          "height": 194
        },
        "id": "r7tH3YeWKeXF",
        "outputId": "bf347ed1-4605-4cad-b24b-7bda1ec3d6ce"
      },
      "source": [
        "df = pd.read_csv('salju_train.csv',usecols=['SuhuMin', 'SuhuMax', 'Penguapan', 'Suhu9am', 'Suhu3pm'],header=0)\n",
        "df.head()"
      ],
      "execution_count": 2,
      "outputs": [
        {
          "output_type": "execute_result",
          "data": {
            "text/html": [
              "<div>\n",
              "<style scoped>\n",
              "    .dataframe tbody tr th:only-of-type {\n",
              "        vertical-align: middle;\n",
              "    }\n",
              "\n",
              "    .dataframe tbody tr th {\n",
              "        vertical-align: top;\n",
              "    }\n",
              "\n",
              "    .dataframe thead th {\n",
              "        text-align: right;\n",
              "    }\n",
              "</style>\n",
              "<table border=\"1\" class=\"dataframe\">\n",
              "  <thead>\n",
              "    <tr style=\"text-align: right;\">\n",
              "      <th></th>\n",
              "      <th>SuhuMin</th>\n",
              "      <th>SuhuMax</th>\n",
              "      <th>Penguapan</th>\n",
              "      <th>Suhu9am</th>\n",
              "      <th>Suhu3pm</th>\n",
              "    </tr>\n",
              "  </thead>\n",
              "  <tbody>\n",
              "    <tr>\n",
              "      <th>0</th>\n",
              "      <td>10.4</td>\n",
              "      <td>15.5</td>\n",
              "      <td>NaN</td>\n",
              "      <td>13.1</td>\n",
              "      <td>15.0</td>\n",
              "    </tr>\n",
              "    <tr>\n",
              "      <th>1</th>\n",
              "      <td>9.0</td>\n",
              "      <td>17.0</td>\n",
              "      <td>2.6</td>\n",
              "      <td>11.9</td>\n",
              "      <td>15.5</td>\n",
              "    </tr>\n",
              "    <tr>\n",
              "      <th>2</th>\n",
              "      <td>18.2</td>\n",
              "      <td>32.0</td>\n",
              "      <td>NaN</td>\n",
              "      <td>23.8</td>\n",
              "      <td>29.6</td>\n",
              "    </tr>\n",
              "    <tr>\n",
              "      <th>3</th>\n",
              "      <td>7.3</td>\n",
              "      <td>24.5</td>\n",
              "      <td>8.4</td>\n",
              "      <td>15.3</td>\n",
              "      <td>23.2</td>\n",
              "    </tr>\n",
              "    <tr>\n",
              "      <th>4</th>\n",
              "      <td>5.9</td>\n",
              "      <td>20.3</td>\n",
              "      <td>3.6</td>\n",
              "      <td>12.4</td>\n",
              "      <td>18.1</td>\n",
              "    </tr>\n",
              "  </tbody>\n",
              "</table>\n",
              "</div>"
            ],
            "text/plain": [
              "   SuhuMin  SuhuMax  Penguapan  Suhu9am  Suhu3pm\n",
              "0     10.4     15.5        NaN     13.1     15.0\n",
              "1      9.0     17.0        2.6     11.9     15.5\n",
              "2     18.2     32.0        NaN     23.8     29.6\n",
              "3      7.3     24.5        8.4     15.3     23.2\n",
              "4      5.9     20.3        3.6     12.4     18.1"
            ]
          },
          "metadata": {
            "tags": []
          },
          "execution_count": 2
        }
      ]
    },
    {
      "cell_type": "markdown",
      "metadata": {
        "id": "y91VO2ZfZ8bE"
      },
      "source": [
        "# Pre-Processing"
      ]
    },
    {
      "cell_type": "markdown",
      "metadata": {
        "id": "Xvoxsvh3aC__"
      },
      "source": [
        "Remove Duplicate"
      ]
    },
    {
      "cell_type": "code",
      "metadata": {
        "id": "XRDiQv-pM4X1",
        "colab": {
          "base_uri": "https://localhost:8080/"
        },
        "outputId": "9f6b6cd6-32be-4106-d529-de2a5f926345"
      },
      "source": [
        "dups = df.duplicated()\n",
        "print('Number of duplicate rows = %d' % (dups.sum())) #menampilkan jumlah baris yang duplikat"
      ],
      "execution_count": 3,
      "outputs": [
        {
          "output_type": "stream",
          "text": [
            "Number of duplicate rows = 585\n"
          ],
          "name": "stdout"
        }
      ]
    },
    {
      "cell_type": "code",
      "metadata": {
        "id": "NpFf2c59SqSl",
        "colab": {
          "base_uri": "https://localhost:8080/",
          "height": 282
        },
        "outputId": "e97e2554-d9a8-40d6-9bf5-5beb0d2f174e"
      },
      "source": [
        "df = df.drop_duplicates() #drop data yang duplikat\n",
        "df.describe()"
      ],
      "execution_count": 4,
      "outputs": [
        {
          "output_type": "execute_result",
          "data": {
            "text/html": [
              "<div>\n",
              "<style scoped>\n",
              "    .dataframe tbody tr th:only-of-type {\n",
              "        vertical-align: middle;\n",
              "    }\n",
              "\n",
              "    .dataframe tbody tr th {\n",
              "        vertical-align: top;\n",
              "    }\n",
              "\n",
              "    .dataframe thead th {\n",
              "        text-align: right;\n",
              "    }\n",
              "</style>\n",
              "<table border=\"1\" class=\"dataframe\">\n",
              "  <thead>\n",
              "    <tr style=\"text-align: right;\">\n",
              "      <th></th>\n",
              "      <th>SuhuMin</th>\n",
              "      <th>SuhuMax</th>\n",
              "      <th>Penguapan</th>\n",
              "      <th>Suhu9am</th>\n",
              "      <th>Suhu3pm</th>\n",
              "    </tr>\n",
              "  </thead>\n",
              "  <tbody>\n",
              "    <tr>\n",
              "      <th>count</th>\n",
              "      <td>107949.000000</td>\n",
              "      <td>108114.000000</td>\n",
              "      <td>61745.000000</td>\n",
              "      <td>107732.000000</td>\n",
              "      <td>106371.000000</td>\n",
              "    </tr>\n",
              "    <tr>\n",
              "      <th>mean</th>\n",
              "      <td>12.196376</td>\n",
              "      <td>23.215019</td>\n",
              "      <td>5.465474</td>\n",
              "      <td>16.991518</td>\n",
              "      <td>21.673191</td>\n",
              "    </tr>\n",
              "    <tr>\n",
              "      <th>std</th>\n",
              "      <td>6.389445</td>\n",
              "      <td>7.106727</td>\n",
              "      <td>4.208063</td>\n",
              "      <td>6.477803</td>\n",
              "      <td>6.923169</td>\n",
              "    </tr>\n",
              "    <tr>\n",
              "      <th>min</th>\n",
              "      <td>-8.500000</td>\n",
              "      <td>-4.800000</td>\n",
              "      <td>0.000000</td>\n",
              "      <td>-7.200000</td>\n",
              "      <td>-5.400000</td>\n",
              "    </tr>\n",
              "    <tr>\n",
              "      <th>25%</th>\n",
              "      <td>7.600000</td>\n",
              "      <td>17.900000</td>\n",
              "      <td>2.600000</td>\n",
              "      <td>12.300000</td>\n",
              "      <td>16.600000</td>\n",
              "    </tr>\n",
              "    <tr>\n",
              "      <th>50%</th>\n",
              "      <td>12.000000</td>\n",
              "      <td>22.600000</td>\n",
              "      <td>4.800000</td>\n",
              "      <td>16.700000</td>\n",
              "      <td>21.100000</td>\n",
              "    </tr>\n",
              "    <tr>\n",
              "      <th>75%</th>\n",
              "      <td>16.800000</td>\n",
              "      <td>28.200000</td>\n",
              "      <td>7.400000</td>\n",
              "      <td>21.600000</td>\n",
              "      <td>26.400000</td>\n",
              "    </tr>\n",
              "    <tr>\n",
              "      <th>max</th>\n",
              "      <td>33.900000</td>\n",
              "      <td>47.300000</td>\n",
              "      <td>145.000000</td>\n",
              "      <td>40.200000</td>\n",
              "      <td>46.700000</td>\n",
              "    </tr>\n",
              "  </tbody>\n",
              "</table>\n",
              "</div>"
            ],
            "text/plain": [
              "             SuhuMin        SuhuMax     Penguapan        Suhu9am        Suhu3pm\n",
              "count  107949.000000  108114.000000  61745.000000  107732.000000  106371.000000\n",
              "mean       12.196376      23.215019      5.465474      16.991518      21.673191\n",
              "std         6.389445       7.106727      4.208063       6.477803       6.923169\n",
              "min        -8.500000      -4.800000      0.000000      -7.200000      -5.400000\n",
              "25%         7.600000      17.900000      2.600000      12.300000      16.600000\n",
              "50%        12.000000      22.600000      4.800000      16.700000      21.100000\n",
              "75%        16.800000      28.200000      7.400000      21.600000      26.400000\n",
              "max        33.900000      47.300000    145.000000      40.200000      46.700000"
            ]
          },
          "metadata": {
            "tags": []
          },
          "execution_count": 4
        }
      ]
    },
    {
      "cell_type": "markdown",
      "metadata": {
        "id": "Yl9_aPlQacyM"
      },
      "source": [
        "Replace Null\n",
        "\n",
        "jika nilai skewness diantara -2 sampai 2 maka menggunakan mean, jika tidak maka menggunakan median"
      ]
    },
    {
      "cell_type": "code",
      "metadata": {
        "colab": {
          "base_uri": "https://localhost:8080/"
        },
        "id": "M1r15hYaS_Un",
        "outputId": "e772e8c1-6d87-4082-cc92-852bc12d150c"
      },
      "source": [
        "check_null = df.isnull().sum() #cek jumlah nilai null di tiap kolom\n",
        "print(check_null)"
      ],
      "execution_count": 5,
      "outputs": [
        {
          "output_type": "stream",
          "text": [
            "SuhuMin        561\n",
            "SuhuMax        396\n",
            "Penguapan    46765\n",
            "Suhu9am        778\n",
            "Suhu3pm       2139\n",
            "dtype: int64\n"
          ],
          "name": "stdout"
        }
      ]
    },
    {
      "cell_type": "code",
      "metadata": {
        "colab": {
          "base_uri": "https://localhost:8080/"
        },
        "id": "BpA6RVDsTVFy",
        "outputId": "c5146acd-3a59-4438-a3c2-e11d1722bb38"
      },
      "source": [
        "col = ['SuhuMin', 'SuhuMax', 'Penguapan', 'Suhu9am', 'Suhu3pm'] #menghitung nilai skewness untuk kelima kolom\n",
        "df[col].skew(axis=0, skipna=True)"
      ],
      "execution_count": 6,
      "outputs": [
        {
          "output_type": "execute_result",
          "data": {
            "text/plain": [
              "SuhuMin      0.018047\n",
              "SuhuMax      0.221010\n",
              "Penguapan    3.916798\n",
              "Suhu9am      0.085141\n",
              "Suhu3pm      0.237995\n",
              "dtype: float64"
            ]
          },
          "metadata": {
            "tags": []
          },
          "execution_count": 6
        }
      ]
    },
    {
      "cell_type": "code",
      "metadata": {
        "colab": {
          "base_uri": "https://localhost:8080/",
          "height": 282
        },
        "id": "QLmopd4JTzhF",
        "outputId": "2e0a27a9-db4e-438f-e486-7b9ce5793a69"
      },
      "source": [
        "df['SuhuMin'].fillna(df['SuhuMin'].mean(),inplace=True) #ganti nilai null dengan nilai mean\n",
        "df['SuhuMax'].fillna(df['SuhuMax'].mean(),inplace=True)\n",
        "df['Penguapan'].fillna(df['Penguapan'].median(),inplace=True) #ganti nilai null dengan nilai median\n",
        "df['Suhu9am'].fillna(df['Suhu9am'].mean(),inplace=True)\n",
        "df['Suhu3pm'].fillna(df['Suhu3pm'].mean(),inplace=True)\n",
        "df.describe()"
      ],
      "execution_count": 7,
      "outputs": [
        {
          "output_type": "execute_result",
          "data": {
            "text/html": [
              "<div>\n",
              "<style scoped>\n",
              "    .dataframe tbody tr th:only-of-type {\n",
              "        vertical-align: middle;\n",
              "    }\n",
              "\n",
              "    .dataframe tbody tr th {\n",
              "        vertical-align: top;\n",
              "    }\n",
              "\n",
              "    .dataframe thead th {\n",
              "        text-align: right;\n",
              "    }\n",
              "</style>\n",
              "<table border=\"1\" class=\"dataframe\">\n",
              "  <thead>\n",
              "    <tr style=\"text-align: right;\">\n",
              "      <th></th>\n",
              "      <th>SuhuMin</th>\n",
              "      <th>SuhuMax</th>\n",
              "      <th>Penguapan</th>\n",
              "      <th>Suhu9am</th>\n",
              "      <th>Suhu3pm</th>\n",
              "    </tr>\n",
              "  </thead>\n",
              "  <tbody>\n",
              "    <tr>\n",
              "      <th>count</th>\n",
              "      <td>108510.000000</td>\n",
              "      <td>108510.000000</td>\n",
              "      <td>108510.000000</td>\n",
              "      <td>108510.000000</td>\n",
              "      <td>108510.000000</td>\n",
              "    </tr>\n",
              "    <tr>\n",
              "      <th>mean</th>\n",
              "      <td>12.196376</td>\n",
              "      <td>23.215019</td>\n",
              "      <td>5.178672</td>\n",
              "      <td>16.991518</td>\n",
              "      <td>21.673191</td>\n",
              "    </tr>\n",
              "    <tr>\n",
              "      <th>std</th>\n",
              "      <td>6.372906</td>\n",
              "      <td>7.093747</td>\n",
              "      <td>3.191352</td>\n",
              "      <td>6.454539</td>\n",
              "      <td>6.854592</td>\n",
              "    </tr>\n",
              "    <tr>\n",
              "      <th>min</th>\n",
              "      <td>-8.500000</td>\n",
              "      <td>-4.800000</td>\n",
              "      <td>0.000000</td>\n",
              "      <td>-7.200000</td>\n",
              "      <td>-5.400000</td>\n",
              "    </tr>\n",
              "    <tr>\n",
              "      <th>25%</th>\n",
              "      <td>7.600000</td>\n",
              "      <td>17.900000</td>\n",
              "      <td>4.000000</td>\n",
              "      <td>12.300000</td>\n",
              "      <td>16.700000</td>\n",
              "    </tr>\n",
              "    <tr>\n",
              "      <th>50%</th>\n",
              "      <td>12.000000</td>\n",
              "      <td>22.700000</td>\n",
              "      <td>4.800000</td>\n",
              "      <td>16.800000</td>\n",
              "      <td>21.300000</td>\n",
              "    </tr>\n",
              "    <tr>\n",
              "      <th>75%</th>\n",
              "      <td>16.800000</td>\n",
              "      <td>28.200000</td>\n",
              "      <td>5.200000</td>\n",
              "      <td>21.500000</td>\n",
              "      <td>26.200000</td>\n",
              "    </tr>\n",
              "    <tr>\n",
              "      <th>max</th>\n",
              "      <td>33.900000</td>\n",
              "      <td>47.300000</td>\n",
              "      <td>145.000000</td>\n",
              "      <td>40.200000</td>\n",
              "      <td>46.700000</td>\n",
              "    </tr>\n",
              "  </tbody>\n",
              "</table>\n",
              "</div>"
            ],
            "text/plain": [
              "             SuhuMin        SuhuMax  ...        Suhu9am        Suhu3pm\n",
              "count  108510.000000  108510.000000  ...  108510.000000  108510.000000\n",
              "mean       12.196376      23.215019  ...      16.991518      21.673191\n",
              "std         6.372906       7.093747  ...       6.454539       6.854592\n",
              "min        -8.500000      -4.800000  ...      -7.200000      -5.400000\n",
              "25%         7.600000      17.900000  ...      12.300000      16.700000\n",
              "50%        12.000000      22.700000  ...      16.800000      21.300000\n",
              "75%        16.800000      28.200000  ...      21.500000      26.200000\n",
              "max        33.900000      47.300000  ...      40.200000      46.700000\n",
              "\n",
              "[8 rows x 5 columns]"
            ]
          },
          "metadata": {
            "tags": []
          },
          "execution_count": 7
        }
      ]
    },
    {
      "cell_type": "markdown",
      "metadata": {
        "id": "o6_qghJ-atU1"
      },
      "source": [
        "Normalize Data"
      ]
    },
    {
      "cell_type": "code",
      "metadata": {
        "colab": {
          "base_uri": "https://localhost:8080/",
          "height": 282
        },
        "id": "6Vrf08EJXOUO",
        "outputId": "d6a15517-425f-43c5-f1db-81eede352333"
      },
      "source": [
        "df = (df - df.min()) / (df.max() - df.min()) #ubah nilai tiap kolom menjadi range 0-1\n",
        "df.describe()"
      ],
      "execution_count": 8,
      "outputs": [
        {
          "output_type": "execute_result",
          "data": {
            "text/html": [
              "<div>\n",
              "<style scoped>\n",
              "    .dataframe tbody tr th:only-of-type {\n",
              "        vertical-align: middle;\n",
              "    }\n",
              "\n",
              "    .dataframe tbody tr th {\n",
              "        vertical-align: top;\n",
              "    }\n",
              "\n",
              "    .dataframe thead th {\n",
              "        text-align: right;\n",
              "    }\n",
              "</style>\n",
              "<table border=\"1\" class=\"dataframe\">\n",
              "  <thead>\n",
              "    <tr style=\"text-align: right;\">\n",
              "      <th></th>\n",
              "      <th>SuhuMin</th>\n",
              "      <th>SuhuMax</th>\n",
              "      <th>Penguapan</th>\n",
              "      <th>Suhu9am</th>\n",
              "      <th>Suhu3pm</th>\n",
              "    </tr>\n",
              "  </thead>\n",
              "  <tbody>\n",
              "    <tr>\n",
              "      <th>count</th>\n",
              "      <td>108510.000000</td>\n",
              "      <td>108510.000000</td>\n",
              "      <td>108510.000000</td>\n",
              "      <td>108510.000000</td>\n",
              "      <td>108510.000000</td>\n",
              "    </tr>\n",
              "    <tr>\n",
              "      <th>mean</th>\n",
              "      <td>0.488122</td>\n",
              "      <td>0.537716</td>\n",
              "      <td>0.035715</td>\n",
              "      <td>0.510370</td>\n",
              "      <td>0.519639</td>\n",
              "    </tr>\n",
              "    <tr>\n",
              "      <th>std</th>\n",
              "      <td>0.150304</td>\n",
              "      <td>0.136156</td>\n",
              "      <td>0.022009</td>\n",
              "      <td>0.136172</td>\n",
              "      <td>0.131566</td>\n",
              "    </tr>\n",
              "    <tr>\n",
              "      <th>min</th>\n",
              "      <td>0.000000</td>\n",
              "      <td>0.000000</td>\n",
              "      <td>0.000000</td>\n",
              "      <td>0.000000</td>\n",
              "      <td>0.000000</td>\n",
              "    </tr>\n",
              "    <tr>\n",
              "      <th>25%</th>\n",
              "      <td>0.379717</td>\n",
              "      <td>0.435701</td>\n",
              "      <td>0.027586</td>\n",
              "      <td>0.411392</td>\n",
              "      <td>0.424184</td>\n",
              "    </tr>\n",
              "    <tr>\n",
              "      <th>50%</th>\n",
              "      <td>0.483491</td>\n",
              "      <td>0.527831</td>\n",
              "      <td>0.033103</td>\n",
              "      <td>0.506329</td>\n",
              "      <td>0.512476</td>\n",
              "    </tr>\n",
              "    <tr>\n",
              "      <th>75%</th>\n",
              "      <td>0.596698</td>\n",
              "      <td>0.633397</td>\n",
              "      <td>0.035862</td>\n",
              "      <td>0.605485</td>\n",
              "      <td>0.606526</td>\n",
              "    </tr>\n",
              "    <tr>\n",
              "      <th>max</th>\n",
              "      <td>1.000000</td>\n",
              "      <td>1.000000</td>\n",
              "      <td>1.000000</td>\n",
              "      <td>1.000000</td>\n",
              "      <td>1.000000</td>\n",
              "    </tr>\n",
              "  </tbody>\n",
              "</table>\n",
              "</div>"
            ],
            "text/plain": [
              "             SuhuMin        SuhuMax  ...        Suhu9am        Suhu3pm\n",
              "count  108510.000000  108510.000000  ...  108510.000000  108510.000000\n",
              "mean        0.488122       0.537716  ...       0.510370       0.519639\n",
              "std         0.150304       0.136156  ...       0.136172       0.131566\n",
              "min         0.000000       0.000000  ...       0.000000       0.000000\n",
              "25%         0.379717       0.435701  ...       0.411392       0.424184\n",
              "50%         0.483491       0.527831  ...       0.506329       0.512476\n",
              "75%         0.596698       0.633397  ...       0.605485       0.606526\n",
              "max         1.000000       1.000000  ...       1.000000       1.000000\n",
              "\n",
              "[8 rows x 5 columns]"
            ]
          },
          "metadata": {
            "tags": []
          },
          "execution_count": 8
        }
      ]
    },
    {
      "cell_type": "code",
      "metadata": {
        "id": "ekP8lfzwfBEv"
      },
      "source": [
        "df.to_csv('salju_diolah.csv') #untuk download data yang telah diolah"
      ],
      "execution_count": 19,
      "outputs": []
    },
    {
      "cell_type": "markdown",
      "metadata": {
        "id": "SbFPkUHpayUo"
      },
      "source": [
        "# Pemodelan"
      ]
    },
    {
      "cell_type": "markdown",
      "metadata": {
        "id": "u1A-2gN-n2UA"
      },
      "source": [
        "Mengambil 2 kolom di dataframe lalu diubah menjadi bentuk array"
      ]
    },
    {
      "cell_type": "code",
      "metadata": {
        "id": "AIb8KuOEa065"
      },
      "source": [
        "cluster_df = df[['Suhu9am','Suhu3pm']].copy(deep=True) #dataframe baru dengan 2 kolom\n",
        "cluster_df.sort_values(by=['Suhu9am','Suhu3pm'], inplace=True)\n",
        "cluster_arr = np.array(cluster_df) #dataframe diubah menjadi array"
      ],
      "execution_count": 9,
      "outputs": []
    },
    {
      "cell_type": "markdown",
      "metadata": {
        "id": "IqOYchSdnVqG"
      },
      "source": [
        "Rumus jarak"
      ]
    },
    {
      "cell_type": "code",
      "metadata": {
        "id": "6h5eFPxCjBQG"
      },
      "source": [
        "def count_distance(x1, x2):\n",
        "    return (sum((x1 - x2) ** 2)) ** 0.5 #rumus menghitung jarak"
      ],
      "execution_count": 10,
      "outputs": []
    },
    {
      "cell_type": "markdown",
      "metadata": {
        "id": "g4c0HhyBBrWK"
      },
      "source": [
        "Fungsi untuk menentukan cluster untuk setiap data"
      ]
    },
    {
      "cell_type": "code",
      "metadata": {
        "id": "CCuN8E0jjGPN"
      },
      "source": [
        "def define_clusters(centroids, cluster_arr):\n",
        "    clusters = []\n",
        "    for i in range(cluster_arr.shape[0]): #loop sebanyak jumlah baris\n",
        "        distances = []\n",
        "        for centroid in centroids: #loop sebanyak jumlah centroid sesuai dengan nilai K\n",
        "            distances.append(count_distance(centroid, cluster_arr[i])) #menghitung distance dari tiap data dengan semua centroid\n",
        "        cluster = [x for x, val in enumerate(distances) if val == min(distances)] #mencari centroid terdekat\n",
        "        clusters.append(cluster[0]) #menentukan cluster\n",
        "    return np.array(clusters)"
      ],
      "execution_count": 11,
      "outputs": []
    },
    {
      "cell_type": "markdown",
      "metadata": {
        "id": "SSNKokrHBy64"
      },
      "source": [
        "Fungsi untuk menentukan centroid baru untuk setiap cluster"
      ]
    },
    {
      "cell_type": "code",
      "metadata": {
        "id": "yF3e1-XyjMR4"
      },
      "source": [
        "def count_centroids(clusters, cluster_arr):\n",
        "    new_centroids = []\n",
        "    cluster_df = pd.concat([pd.DataFrame(cluster_arr), pd.DataFrame(clusters, columns=['cluster'])], axis=1) #menggabungkan dataframe\n",
        "    for c in set(cluster_df['cluster']):\n",
        "        current_cluster = cluster_df[cluster_df['cluster']==c][cluster_df.columns[:-1]]\n",
        "        cluster_mean = current_cluster.mean(axis=0) #mencari mean dari cluster\n",
        "        new_centroids.append(cluster_mean) #mean tersebut menjadi centroid baru dalam cluster tersebut\n",
        "    return np.array(new_centroids)"
      ],
      "execution_count": 12,
      "outputs": []
    },
    {
      "cell_type": "markdown",
      "metadata": {
        "id": "haP6EanpCL1l"
      },
      "source": [
        "Main program"
      ]
    },
    {
      "cell_type": "code",
      "metadata": {
        "id": "mAVz4ue9jRAt"
      },
      "source": [
        "k = 3 #menentukan jumlah cluster\n",
        "centroids = [cluster_arr[i+2] for i in range(k)] #random centroid awal\n",
        "clusters = define_clusters(centroids, cluster_arr) #menentukan cluster berdasarkan centroid awal\n",
        "initial_clusters = clusters\n",
        "for i in range(20): #loop untuk mengulangi proses penentuan centroid dan penentuan cluster\n",
        "    centroids = count_centroids(clusters, cluster_arr)\n",
        "    clusters = define_clusters(centroids, cluster_arr)"
      ],
      "execution_count": 13,
      "outputs": []
    },
    {
      "cell_type": "markdown",
      "metadata": {
        "id": "wrNHg0d7COTm"
      },
      "source": [
        "Visualisasi clustering"
      ]
    },
    {
      "cell_type": "code",
      "metadata": {
        "id": "UqhO6mhXmwT6",
        "colab": {
          "base_uri": "https://localhost:8080/",
          "height": 606
        },
        "outputId": "c20d8557-24f1-425d-f865-fee589bed8d6"
      },
      "source": [
        "plt.subplots(figsize=(10,10))\n",
        "plt.scatter(x=cluster_arr[:,0], y=cluster_arr[:,1], \n",
        "            c=clusters, cmap=plt.cm.Spectral);\n",
        "plt.scatter(x=centroids[:,0], y=centroids[:,1], color='black');\n",
        "plt.xlabel('Suhu9am')\n",
        "plt.ylabel('Suhu3pm');"
      ],
      "execution_count": 14,
      "outputs": [
        {
          "output_type": "display_data",
          "data": {
            "image/png": "[encoded data removed]",
            "text/plain": [
              "<Figure size 720x720 with 1 Axes>"
            ]
          },
          "metadata": {
            "tags": [],
            "needs_background": "light"
          }
        }
      ]
    },
    {
      "cell_type": "markdown",
      "metadata": {
        "id": "y_hOFWmFazsE"
      },
      "source": [
        "# Evaluasi"
      ]
    },
    {
      "cell_type": "markdown",
      "metadata": {
        "id": "JtVbvngeA81z"
      },
      "source": [
        "Algoritma elbow method dengan 2 cara yakni distortion dan inertia"
      ]
    },
    {
      "cell_type": "code",
      "metadata": {
        "id": "q52TRClAa1bM"
      },
      "source": [
        "from sklearn.cluster import KMeans\n",
        "from scipy.spatial.distance import cdist\n",
        "distortions = []\n",
        "inertias = []\n",
        "K = range(1, 11) #menentukan range K yang akan diuji\n",
        "X = cluster_arr\n",
        " \n",
        "for k in K:\n",
        "    kmean_model = KMeans(n_clusters=k).fit(X)\n",
        "    kmean_model.fit(X)\n",
        "    distortions.append(sum(np.min(cdist(X, kmean_model.cluster_centers_, 'euclidean'), axis=1)) / X.shape[0]) #menghitung nilai distortion untuk setiap nilai K\n",
        "    inertias.append(kmean_model.inertia_) #menghitung nilai inertia untuk setiap nilai K"
      ],
      "execution_count": 15,
      "outputs": []
    },
    {
      "cell_type": "markdown",
      "metadata": {
        "id": "kLB-hoUND4XQ"
      },
      "source": [
        "Visualisasi data elbow method menggunakan distortion"
      ]
    },
    {
      "cell_type": "code",
      "metadata": {
        "id": "BFwUuKkT7uoz",
        "colab": {
          "base_uri": "https://localhost:8080/",
          "height": 295
        },
        "outputId": "4b45e83f-a3f6-4893-d8fc-c41d7eeb6b0c"
      },
      "source": [
        "plt.plot(K, distortions, 'bo-')\n",
        "plt.xlabel('Nilai K')\n",
        "plt.ylabel('Nilai Distortion')\n",
        "plt.title('Elbow Method menggunakan Distortion')\n",
        "plt.show()"
      ],
      "execution_count": 16,
      "outputs": [
        {
          "output_type": "display_data",
          "data": {
            "image/png": "[encoded data removed]",
            "text/plain": [
              "<Figure size 432x288 with 1 Axes>"
            ]
          },
          "metadata": {
            "tags": [],
            "needs_background": "light"
          }
        }
      ]
    },
    {
      "cell_type": "markdown",
      "metadata": {
        "id": "p3MsrRmSD_Ix"
      },
      "source": [
        "Visualisasi data elbow method menggunakan inertia"
      ]
    },
    {
      "cell_type": "code",
      "metadata": {
        "id": "pyhXWmU0_rig",
        "colab": {
          "base_uri": "https://localhost:8080/",
          "height": 295
        },
        "outputId": "80425fff-6c25-4773-ceeb-f9f3a6a8b59e"
      },
      "source": [
        "\n",
        "plt.plot(K, inertias, 'bo-')\n",
        "plt.xlabel('Nilai K')\n",
        "plt.ylabel('Nilai Inertia')\n",
        "plt.title('Elbow Method menggunakan Inertia')\n",
        "plt.show()"
      ],
      "execution_count": 17,
      "outputs": [
        {
          "output_type": "display_data",
          "data": {
            "image/png": "[encoded data removed]",
            "text/plain": [
              "<Figure size 432x288 with 1 Axes>"
            ]
          },
          "metadata": {
            "tags": [],
            "needs_background": "light"
          }
        }
      ]
    }
  ]
}